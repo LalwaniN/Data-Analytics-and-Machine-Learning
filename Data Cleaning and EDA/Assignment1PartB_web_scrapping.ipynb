{
 "cells": [
  {
   "cell_type": "code",
   "execution_count": 14,
   "metadata": {},
   "outputs": [
    {
     "name": "stdout",
     "output_type": "stream",
     "text": [
      "['https://itunes.apple.com/app/h-m/id589351740', 'DOWNLOAD IOS\\r\\n                                    ', 'Thursday January 25, 2018 10:58 PM', 'true']\n",
      "['https://play.google.com/store/apps/details?id=com.hm', 'DOWNLOAD ANDROID \\r\\n                                    ', 'Thursday January 25, 2018 10:58 PM', 'true']\n",
      "['https://itunes.apple.com/app/h-m/id589351740', 'DOWNLOAD IOS', 'Thursday January 25, 2018 10:58 PM', 'true']\n",
      "['https://play.google.com/store/apps/details?id=com.hm', 'DOWNLOAD ANDROID ', 'Thursday January 25, 2018 10:58 PM', 'true']\n",
      "['https://itunes.apple.com/app/h-m/id589351740', 'DOWNLOAD IOS\\r\\n                                    ', 'Thursday January 25, 2018 10:58 PM', 'true']\n",
      "['https://play.google.com/store/apps/details?id=com.hm', 'DOWNLOAD ANDROID \\r\\n                                    ', 'Thursday January 25, 2018 10:58 PM', 'true']\n",
      "['https://itunes.apple.com/app/h-m/id589351740', 'DOWNLOAD IOS', 'Thursday January 25, 2018 10:58 PM', 'true']\n",
      "['https://play.google.com/store/apps/details?id=com.hm', 'DOWNLOAD ANDROID ', 'Thursday January 25, 2018 10:58 PM', 'true']\n",
      "['http://about.hm.com/en/sustainability.html', '\\n\\n\\n\\n\\n\\n\\n\\n\\n\\n\\n\\n\\n\\nSUSTAINABILITY\\n\\n\\n\\n\\nSUSTAINABLE FASHION\\n\\n\\nLook good, do good, feel good. Learn more about our sustainability work.\\n\\n\\n\\n\\n\\n\\n\\n\\n\\n\\n\\nREAD MORE\\r\\n                                    \\n\\n\\n\\n\\n\\n\\n\\n', 'Thursday January 25, 2018 10:58 PM', 'true']\n",
      "['http://about.hm.com/en/sustainability.html', '\\n\\n\\n\\n\\n\\n\\n\\n\\n\\n\\n\\n\\n\\nSUSTAINABILITY\\n\\n\\n\\n\\nSUSTAINABLE FASHION\\n\\n\\nLook good, do good, feel good. Learn more about our sustainability work.\\n\\n\\n\\n\\n\\n\\n\\n\\n\\n\\n\\nREAD MORE\\r\\n                                    \\n\\n\\n\\n\\n\\n\\n\\n', 'Thursday January 25, 2018 10:58 PM', 'true']\n"
     ]
    }
   ],
   "source": [
    "## Webscraping http://www.hm.com/us/ and exporting results to csv\n",
    "\n",
    "from __future__ import print_function\n",
    "import urllib3\n",
    "import unicodedata\n",
    "import datetime\n",
    "import csv\n",
    "from urllib.parse import urljoin\n",
    "from bs4 import BeautifulSoup, SoupStrainer, Comment\n",
    "import warnings\n",
    "warnings.filterwarnings('ignore')\n",
    "\n",
    "url='http://www.hm.com/us/'\n",
    "http = urllib3.PoolManager()\n",
    "response = http.request('GET',url)\n",
    "soup=BeautifulSoup(response.data, \"lxml\")\n",
    "l=soup.find_all('a')\n",
    "\n",
    "#Function to return boolean for valid urls\n",
    "def is_valid(status):\n",
    "    if status==200:\n",
    "        return 'true'\n",
    "    else:\n",
    "        return 'false'\n",
    "\n",
    "#web scraping external links\n",
    "links=[]\n",
    "for url in l:\n",
    "    if 'href' in url.attrs:\n",
    "            tmp=[]\n",
    "            newurl = url.attrs['href']\n",
    "            if newurl.startswith('http'):\n",
    "                if not newurl.startswith('http://www.hm.com') and not newurl.startswith('https://www.hm.com'):\n",
    "                    tmp.append(newurl)   \n",
    "                    tmp.append(url.text)\n",
    "                    tmp.append(datetime.datetime.now().strftime(\"%A %B %d, %Y %I:%M %p\"))\n",
    "                    response = http.request('GET',newurl)\n",
    "                    valid = is_valid(response.status)\n",
    "                    tmp.append(valid)\n",
    "                    print (tmp)\n",
    "                    links.append(tmp)\n",
    "#exporting scraped external links to csv\n",
    "csvfile = \"WebscraperOutput.csv\"\n",
    "\n",
    "with open(csvfile,'w', newline='\\n',encoding='utf-8') as output:\n",
    "    writer = csv.writer(output,dialect='excel')\n",
    "    writer.writerows(links)"
   ]
  },
  {
   "cell_type": "code",
   "execution_count": null,
   "metadata": {
    "collapsed": true
   },
   "outputs": [],
   "source": []
  }
 ],
 "metadata": {
  "kernelspec": {
   "display_name": "Python 3",
   "language": "python",
   "name": "python3"
  },
  "language_info": {
   "codemirror_mode": {
    "name": "ipython",
    "version": 3
   },
   "file_extension": ".py",
   "mimetype": "text/x-python",
   "name": "python",
   "nbconvert_exporter": "python",
   "pygments_lexer": "ipython3",
   "version": "3.6.3"
  }
 },
 "nbformat": 4,
 "nbformat_minor": 2
}
